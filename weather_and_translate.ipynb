{
  "nbformat": 4,
  "nbformat_minor": 0,
  "metadata": {
    "colab": {
      "provenance": []
    },
    "kernelspec": {
      "name": "python3",
      "display_name": "Python 3"
    },
    "language_info": {
      "name": "python"
    }
  },
  "cells": [
    {
      "cell_type": "code",
      "source": [
        "import requests\n",
        "\n",
        "\n",
        "api_key = \"cdbb43ac89bfcb67134f84c366dcd86b\"\n",
        "\n",
        "def get_weather(city_name):\n",
        "    url = f\"http://api.weatherstack.com/current?access_key={api_key}&query={city_name}\"\n",
        "    response = requests.get(url)\n",
        "    if response.status_code == 200:\n",
        "        data = response.json()\n",
        "        city = data['location']['name']\n",
        "        country = data['location']['country']\n",
        "        temperature = data['current']['temperature']\n",
        "        weather_desc = data['current']['weather_descriptions'][0]\n",
        "        humidity = data['current']['humidity']\n",
        "        return f\"Current weather in {city}, {country}: {weather_desc}, Temperature: {temperature}°C, Humidity: {humidity}%\"\n",
        "    else:\n",
        "        return \"Sorry, unable to retrieve weather information at the moment\""
      ],
      "metadata": {
        "id": "zfsFl9o1xwD_"
      },
      "execution_count": 2,
      "outputs": []
    },
    {
      "cell_type": "code",
      "source": [
        "!pip install translate\n",
        "\n",
        "from translate import Translator"
      ],
      "metadata": {
        "colab": {
          "base_uri": "https://localhost:8080/"
        },
        "id": "jssDA4tRyTkm",
        "outputId": "db6e858d-bc1a-4563-eedb-7fdc6a525da7"
      },
      "execution_count": 3,
      "outputs": [
        {
          "output_type": "stream",
          "name": "stdout",
          "text": [
            "Looking in indexes: https://pypi.org/simple, https://us-python.pkg.dev/colab-wheels/public/simple/\n",
            "Collecting translate\n",
            "  Downloading translate-3.6.1-py2.py3-none-any.whl (12 kB)\n",
            "Requirement already satisfied: click in /usr/local/lib/python3.10/dist-packages (from translate) (8.1.3)\n",
            "Requirement already satisfied: lxml in /usr/local/lib/python3.10/dist-packages (from translate) (4.9.2)\n",
            "Requirement already satisfied: requests in /usr/local/lib/python3.10/dist-packages (from translate) (2.27.1)\n",
            "Collecting libretranslatepy==2.1.1 (from translate)\n",
            "  Downloading libretranslatepy-2.1.1-py3-none-any.whl (3.2 kB)\n",
            "Requirement already satisfied: urllib3<1.27,>=1.21.1 in /usr/local/lib/python3.10/dist-packages (from requests->translate) (1.26.15)\n",
            "Requirement already satisfied: certifi>=2017.4.17 in /usr/local/lib/python3.10/dist-packages (from requests->translate) (2022.12.7)\n",
            "Requirement already satisfied: charset-normalizer~=2.0.0 in /usr/local/lib/python3.10/dist-packages (from requests->translate) (2.0.12)\n",
            "Requirement already satisfied: idna<4,>=2.5 in /usr/local/lib/python3.10/dist-packages (from requests->translate) (3.4)\n",
            "Installing collected packages: libretranslatepy, translate\n",
            "Successfully installed libretranslatepy-2.1.1 translate-3.6.1\n"
          ]
        }
      ]
    },
    {
      "cell_type": "code",
      "source": [
        "\n",
        "def translation(text, target_lang):\n",
        "\n",
        "    # Translate the text to the target language\n",
        "    translator = Translator(to_lang=target_lang)\n",
        "    translation = translator.translate(text)\n",
        "\n",
        "    # Output the translated text to the user\n",
        "    return f\"Translated text: {translation}\\n\"\n",
        "\n",
        "def travel_chatbot():\n",
        "    print(\"Hi! My name is TravBob. How can I assist you today?\")\n",
        "\n",
        "    while True:\n",
        "        user_input = input(\"Enter 'weather' for weather updates, 'translate' for text translation, or 'exit' to quit: \")\n",
        "\n",
        "        if user_input.lower() == \"exit\":\n",
        "            print(\"Goodbye!\")\n",
        "            break\n",
        "\n",
        "        elif user_input.lower() == \"weather\":\n",
        "            city_name = input(\"Please enter a city or state name: \")\n",
        "            print(get_weather(city_name))\n",
        "\n",
        "        elif user_input.lower() == \"translate\":\n",
        "            text = input(\"Enter the text to be translated: \")\n",
        "            target_lang = input(\"Enter the target language code (e.g. 'fr' for French): \")\n",
        "            print(translation(text, target_lang))\n",
        "\n",
        "        else:\n",
        "            print(\"Sorry, I didn't understand your request. Please try again.\")\n",
        "\n",
        "travel_chatbot()"
      ],
      "metadata": {
        "colab": {
          "base_uri": "https://localhost:8080/"
        },
        "id": "M7KBWQljyHET",
        "outputId": "73200bfd-6d5b-4864-dc1c-7b3bd5ac5122"
      },
      "execution_count": 4,
      "outputs": [
        {
          "output_type": "stream",
          "name": "stdout",
          "text": [
            "Hi! My name is TravBob. How can I assist you today?\n",
            "Enter 'weather' for weather updates, 'translate' for text translation, or 'exit' to quit: weather\n",
            "Please enter a city or state name: pune\n",
            "Current weather in Pune, India: Clear, Temperature: 29°C, Humidity: 52%\n",
            "Enter 'weather' for weather updates, 'translate' for text translation, or 'exit' to quit: translate\n",
            "Enter the text to be translated: hello\n",
            "Enter the target language code (e.g. 'fr' for French): hi\n",
            "Translated text: नमस्ते आप कैसे हैं\n",
            "\n",
            "Enter 'weather' for weather updates, 'translate' for text translation, or 'exit' to quit: quit\n",
            "Sorry, I didn't understand your request. Please try again.\n",
            "Enter 'weather' for weather updates, 'translate' for text translation, or 'exit' to quit: exit\n",
            "Goodbye!\n"
          ]
        }
      ]
    }
  ]
}