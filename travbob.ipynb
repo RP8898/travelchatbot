{
  "cells": [
    {
      "cell_type": "code",
      "execution_count": null,
      "metadata": {
        "colab": {
          "background_save": true,
          "base_uri": "https://localhost:8080/"
        },
        "id": "A2beASCgkxQ9",
        "outputId": "6a745de0-985f-4713-e902-79f3b29a91ce"
      },
      "outputs": [
        {
          "name": "stdout",
          "output_type": "stream",
          "text": [
            "Hi! I'm a TravBob! I can help you plan your trip to India.\n",
            "Which state would you like to visit?\n"
          ]
        }
      ],
      "source": [
        "import random\n",
        "\n",
        "# Dictionary of all states and their top 10 locations\n",
        "states = {\n",
        "    \"Andhra Pradesh\": [\"Tirupati\", \"Visakhapatnam\", \"Vijayawada\", \"Amaravati\", \"Kurnool\", \"Srikalahasti\", \"Kadapa\", \"Rajahmundry\", \"Guntur\", \"Nellore\"],\n",
        "    \"Arunachal Pradesh\": [\"Tawang\", \"Bomdila\", \"Ziro\", \"Pasighat\", \"Roing\", \"Along\", \"Daporijo\", \"Itanagar\", \"Tezu\", \"Namsai\"],\n",
        "    \"Assam\": [\"Guwahati\", \"Kaziranga National Park\", \"Sibsagar\", \"Jorhat\", \"Majuli\", \"Hajo\", \"Digboi\", \"Manas National Park\", \"Haflong\", \"Silchar\"],\n",
        "    \"Rajasthan\": [\"jaipur\", \"Ranthambore National Park\", \"Udaipur\", \"Jodhpur\", \"Amberpalace\", \"Mountabu\", \"Jaiselmet\", \"chittogarh fort\", \"Museum Trust\" ],\n",
        "    \"Punjab\": [\"Amritsar\", \"Chandigarh\", \"Ludhiana\", \"Jalandar\", \"Bhatinda\"],\n",
        "    \"Maharashtra\": [\"Pune\", \"Mumbai\", \"Nashik\", \"Nagpur\", \"Lonavala\"],\n",
        "    \"Uttar Pradesh\": [\"Agra\", \"Varanasi\", \"Fatehpur\", \"Sikri\", \"Lucknow\", \"Mathura\"],\n",
        "    \"Haryana\": [\"Gurgaon\", \"Kurukshetra\", \"Panchkula\", \"Faridabad\", \"Panipat\"],\n",
        "    \"Tamilnadu\": [\"Chennai\", \"Ooty\", \"Madurai\", \"Mahabalipuram\", \"Kodaikanal\"],\n",
        "    \"Bihar\": [\"Gaya\", \"Nalanda\", \"Munger\", \"Vaishali\", \"Patna\"],\n",
        "    \"Arunachal Pradesh\": [\"Tawang\", \"Ziro valley\", \"Selapass\", \"Tezu\", \"Roing\"],\n",
        "    \"Goa\": [\"Kurnool\", \"Anjuna Beach\", \"Fort Aguda\", \"Panaji\", \"Cola Beach\", \"Mapusa market\", \"Old goa\", \"Candolim\", \"Calangute\" ],\n",
        "    \"Madhya Pradesh\": [\"Omkareshwar\", \"Kanahna tiger reserve\", \"Gwalior fort\", \"Ujjain\", \"Bhopal\"],\n",
        "    \"Andra Pradesh\": [\"Burra caves\", \"Kailasagiri\", \"Srivarimattu\", \"Chittoor\", \"Vijayawada\"],  \n",
        "    # Add or update more states and locations\n",
        "}\n",
        "\n",
        "# Function to show top 10 locations of a state\n",
        "def show_locations(state):\n",
        "    print(f\"Here are the top 10 locations in {state}:\")\n",
        "    for i, location in enumerate(states[state]):\n",
        "        print(f\"{i+1}. {location}\")\n",
        "\n",
        "# Function to generate a random package with charges\n",
        "def generate_package(days):\n",
        "    places = [\"Hotel\", \"Resort\", \"Guest House\", \"Homestay\", \"Campsite\"]\n",
        "    meals = [\"Breakfast\", \"Lunch\", \"Dinner\"]\n",
        "    charges = random.randint(1000, 5000)\n",
        "    package = {\n",
        "        \"Accommodation\": random.choice(places),\n",
        "        \"Meals\": random.sample(meals, 2),\n",
        "        \"Days\": days,\n",
        "        \"Charges\": charges * days\n",
        "    }\n",
        "    return package\n",
        "\n",
        "# Start the conversation\n",
        "print(\"Hi! I'm a TravBob! I can help you plan your trip to India.\")\n",
        "print(\"Which state would you like to visit?\")\n",
        "state = input(\"Enter the state name: \")\n",
        "\n",
        "# Show top 10 locations of the chosen state\n",
        "show_locations(state)\n",
        "\n",
        "# Ask for number of days of stay\n",
        "days = int(input(\"How many days would you like to stay? \"))\n",
        "\n",
        "\n",
        "# Generate a random package with charges\n",
        "package = generate_package(days)\n",
        "\n",
        "# Ask for email and contact number\n",
        "email = input(\"Please enter your email address: \")\n",
        "contact_number = input(\"Please enter your contact number: \")\n",
        "\n",
        "# Show the package details\n",
        "print(f\"Your package details for {days} days in {state} are as follows:\")\n",
        "for key, value in package.items():\n",
        "    print(f\"{key}: {value}\")\n",
        "print(f\"Please check your email ({email}) for more details. We will contact you at {contact_number} shortly.\")\n"
      ]
    }
  ],
  "metadata": {
    "colab": {
      "provenance": []
    },
    "kernelspec": {
      "display_name": "Python 3",
      "name": "python3"
    },
    "language_info": {
      "name": "python"
    }
  },
  "nbformat": 4,
  "nbformat_minor": 0
}